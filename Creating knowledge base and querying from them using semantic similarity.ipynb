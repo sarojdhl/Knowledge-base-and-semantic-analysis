{
 "cells": [
  {
   "cell_type": "markdown",
   "metadata": {},
   "source": [
    "# Webscrapping and inserting into database (sqlite) to make knowledge base"
   ]
  },
  {
   "cell_type": "code",
   "execution_count": 4,
   "metadata": {},
   "outputs": [],
   "source": [
    "import sqlite3\n",
    "import urllib\n",
    "from bs4 import BeautifulSoup\n",
    "import requests"
   ]
  },
  {
   "cell_type": "code",
   "execution_count": 7,
   "metadata": {},
   "outputs": [
    {
     "data": {
      "text/plain": [
       "<sqlite3.Cursor at 0x7fde5dcedce0>"
      ]
     },
     "execution_count": 7,
     "metadata": {},
     "output_type": "execute_result"
    }
   ],
   "source": [
    "conn = sqlite3.connect('knowledgeBase.db')\n",
    "c = conn.cursor()\n",
    "c.execute(\"CREATE TABLE knowledgeBase (question TEXT, answer TEXT)\")"
   ]
  },
  {
   "cell_type": "code",
   "execution_count": 8,
   "metadata": {},
   "outputs": [],
   "source": [
    "def insertDB(q_and_a):\n",
    "    c.executemany(\"insert into knowledgeBase(question, answer) values (?,?)\", q_and_a)  "
   ]
  },
  {
   "cell_type": "code",
   "execution_count": 9,
   "metadata": {},
   "outputs": [],
   "source": [
    "def get_questions_answers(URL):\n",
    "    page = requests.get(URL)\n",
    "    soup = BeautifulSoup(page.content)\n",
    "    question = soup.find_all(class_ = 'question')\n",
    "    answer = soup.find_all(class_ = 'answer')\n",
    "    q_and_a=[]\n",
    "    for i in range(len(question)):\n",
    "        q_and_a_set = (question[i].text,answer[i].text)\n",
    "        q_and_a.append(q_and_a_set)\n",
    "    return q_and_a"
   ]
  },
  {
   "cell_type": "code",
   "execution_count": 10,
   "metadata": {},
   "outputs": [],
   "source": [
    "q_and_a = get_questions_answers('https://www.vat19.com/faq')"
   ]
  },
  {
   "cell_type": "code",
   "execution_count": 11,
   "metadata": {},
   "outputs": [],
   "source": [
    "insertDB(q_and_a)"
   ]
  },
  {
   "cell_type": "markdown",
   "metadata": {},
   "source": [
    "# Creating model and querying from database to check similarity"
   ]
  },
  {
   "cell_type": "code",
   "execution_count": 75,
   "metadata": {},
   "outputs": [],
   "source": [
    "from gensim import corpora, models, similarities\n",
    "import json"
   ]
  },
  {
   "cell_type": "code",
   "execution_count": 71,
   "metadata": {},
   "outputs": [],
   "source": [
    "questions = c.execute('SELECT question FROM knowledgeBase').fetchall()\n",
    "answers = c.execute('SELECT answer FROM knowledgeBase').fetchall()"
   ]
  },
  {
   "cell_type": "code",
   "execution_count": 72,
   "metadata": {},
   "outputs": [],
   "source": [
    "#converting to list of strings\n",
    "for i,ques in enumerate(questions):\n",
    "    questions[i] = ques[0]\n",
    "    answers[i] = answers[i][0]"
   ]
  },
  {
   "cell_type": "code",
   "execution_count": 50,
   "metadata": {},
   "outputs": [],
   "source": [
    "#tokenizing into words\n",
    "texts = [[word.lower() for word in question.split()]\n",
    "         for question in questions]"
   ]
  },
  {
   "cell_type": "code",
   "execution_count": 51,
   "metadata": {},
   "outputs": [],
   "source": [
    "#dictionary of text\n",
    "dictionary = corpora.Dictionary(texts)\n",
    "#corpus of text\n",
    "corpus = [dictionary.doc2bow(text) for text in texts]\n",
    "#latent model creation\n",
    "lsi = models.LsiModel(corpus, id2word=dictionary)"
   ]
  },
  {
   "cell_type": "code",
   "execution_count": 55,
   "metadata": {},
   "outputs": [],
   "source": [
    "#example data\n",
    "data = 'When will my order ship'"
   ]
  },
  {
   "cell_type": "code",
   "execution_count": 56,
   "metadata": {},
   "outputs": [],
   "source": [
    "#corpus of data\n",
    "vec_bow = dictionary.doc2bow(data.lower().split()\n",
    "# convert the query to LSI space\n",
    "vec_lsi = lsi[vec_bow]\n",
    "index = similarities.MatrixSimilarity(lsi[corpus])  \n",
    "# perform a similarity query against the corpus\n",
    "sims = index[vec_lsi]\n",
    "sims = sorted(enumerate(sims), key=lambda item: -item[1])[0:5]"
   ]
  },
  {
   "cell_type": "code",
   "execution_count": 65,
   "metadata": {},
   "outputs": [
    {
     "data": {
      "text/plain": [
       "[(0, 0.83871585),\n",
       " (3, 0.76563936),\n",
       " (12, 0.44204205),\n",
       " (6, 0.36092582),\n",
       " (9, 0.27957195)]"
      ]
     },
     "execution_count": 65,
     "metadata": {},
     "output_type": "execute_result"
    }
   ],
   "source": [
    "#first is index and second is similarity score. Index value is the position of question in questions list\n",
    "sims"
   ]
  },
  {
   "cell_type": "markdown",
   "metadata": {},
   "source": [
    "# Function take query question and output the top 5 similar data from database"
   ]
  },
  {
   "cell_type": "code",
   "execution_count": 105,
   "metadata": {},
   "outputs": [],
   "source": [
    "def query_to_output_similarity(query, dictionary, lsi):\n",
    "    #corpus of data\n",
    "    vec_bow = dictionary.doc2bow(query.lower().split())\n",
    "    vec_lsi = lsi[vec_bow]\n",
    "    index = similarities.MatrixSimilarity(lsi[corpus])  \n",
    "    # perform a similarity query against the corpus\n",
    "    sims = index[vec_lsi]\n",
    "    sims = sorted(enumerate(sims), key=lambda item: -item[1])\n",
    "    return sims"
   ]
  },
  {
   "cell_type": "code",
   "execution_count": 106,
   "metadata": {},
   "outputs": [],
   "source": [
    "def response_with_data(query, dictionary, lsi, num_resp = 5):\n",
    "    sims = query_to_output_similarity(query,dictionary, lsi)\n",
    "    sims = sims[0:num_resp]\n",
    "    index = []\n",
    "    score = []\n",
    "    for i in sims:\n",
    "        index.append(i[0])\n",
    "        score.append(i[1])\n",
    "    ans = [answers[i] for i in index]\n",
    "    ques = [questions[i] for i in index]\n",
    "    output = {'questions': ques, 'answers':ans, 'similarity_score': score}\n",
    "    return output"
   ]
  },
  {
   "cell_type": "code",
   "execution_count": 107,
   "metadata": {},
   "outputs": [
    {
     "data": {
      "text/plain": [
       "{'questions': ['How much is shipping?',\n",
       "  'What is your return policy?',\n",
       "  'How do I track my order?',\n",
       "  'I made a mistake with my order. How do I change it?',\n",
       "  'Can I cancel my order?'],\n",
       " 'answers': ['Shipping costs depend on the weight (and size) of your order, your destination, and the shipping method you choose.\\nFor orders shipped within the US, however, you can choose our flat rate shipping method. This means your order ships for the same low rate no matter how much you order!\\nFor all other methods, you can determine prices by using the shipping calculator on any product page or the shopping cart page.',\n",
       "  'Instructions for what you should do in the event  that something is wrong with your order are available here.',\n",
       "  'You should have received an email from us with instructions on how to track your order after it shipped.You can also view details of your order by visiting our order tracking page.',\n",
       "  \"If your order has not yet shipped or isn't in the process of being packed, we may be able to help. Please email us (as this action attempts to halt processing of your order) so we may try to assist. Please note that we cannot guarantee that we can modify your order.\",\n",
       "  \"If your order has not yet shipped or isn't in the process of being packed, we might be able to help. Please email us for assistance.\"],\n",
       " 'similarity_score': [0.9926974,\n",
       "  0.29596522,\n",
       "  0.27017802,\n",
       "  0.17687301,\n",
       "  6.519258e-09]}"
      ]
     },
     "execution_count": 107,
     "metadata": {},
     "output_type": "execute_result"
    }
   ],
   "source": [
    "query = 'How much is shipping'\n",
    "response_with_data(query, dictionary, lsi)"
   ]
  }
 ],
 "metadata": {
  "kernelspec": {
   "display_name": "Python 3",
   "language": "python",
   "name": "python3"
  },
  "language_info": {
   "codemirror_mode": {
    "name": "ipython",
    "version": 3
   },
   "file_extension": ".py",
   "mimetype": "text/x-python",
   "name": "python",
   "nbconvert_exporter": "python",
   "pygments_lexer": "ipython3",
   "version": "3.8.0"
  }
 },
 "nbformat": 4,
 "nbformat_minor": 4
}
